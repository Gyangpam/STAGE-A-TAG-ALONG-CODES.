{
 "cells": [
  {
   "cell_type": "markdown",
   "id": "f4ed1157",
   "metadata": {},
   "source": [
    "INTRODUCTION TO PYTHON FOR MACHINE LEARNING TAG ALONG CODES"
   ]
  },
  {
   "cell_type": "markdown",
   "id": "6cebe809",
   "metadata": {},
   "source": [
    "Answers to the second part of the Quiz using the African food production dataset provided by the FAO."
   ]
  },
  {
   "cell_type": "code",
   "execution_count": 78,
   "id": "fec06722",
   "metadata": {},
   "outputs": [],
   "source": [
    "import pandas as pd\n",
    "url=\"https://github.com/HamoyeHQ/HDSC-Introduction-to-Python-for-machine-learning/files/7768140/FoodBalanceSheets_E_Africa_NOFLAG.csv\"\n",
    "# f_a is stands for Food Production\n",
    "f_a=pd.read_csv(url, encoding=\"latin1\")"
   ]
  },
  {
   "cell_type": "markdown",
   "id": "cfff6ce8",
   "metadata": {},
   "source": [
    "11. The total sum of Animal Fat produced in 2014 and 2017 respectively is"
   ]
  },
  {
   "cell_type": "code",
   "execution_count": 9,
   "id": "14086873",
   "metadata": {},
   "outputs": [
    {
     "name": "stdout",
     "output_type": "stream",
     "text": [
      "209460.54\n",
      "269617.53\n"
     ]
    }
   ],
   "source": [
    "f_a.groupby('Item').sum()\n",
    "A=pd.DataFrame(f_a.groupby('Item').sum())\n",
    "print(A.at['Animal fats','Y2014'])\n",
    "print(A.at['Animal fats','Y2017'])"
   ]
  },
  {
   "cell_type": "markdown",
   "id": "7f93d2ec",
   "metadata": {},
   "source": [
    "12. The mean and standard deviation across the whole dataset for the year 2015 to 3 decimal places is"
   ]
  },
  {
   "cell_type": "code",
   "execution_count": 15,
   "id": "4e54fa8b",
   "metadata": {},
   "outputs": [
    {
     "name": "stdout",
     "output_type": "stream",
     "text": [
      "136.555\n",
      "1640.007\n"
     ]
    }
   ],
   "source": [
    "f_a.describe()\n",
    "B=pd.DataFrame(f_a.describe())\n",
    "decimal_format = \"{:.3f}\".format(B.at['mean','Y2016'])\n",
    "decimal_format1 = \"{:.3f}\".format(B.at['std','Y2016'])\n",
    "print(decimal_format)\n",
    "print(decimal_format1)\n"
   ]
  },
  {
   "cell_type": "markdown",
   "id": "f0016137",
   "metadata": {},
   "source": [
    "13. The total number and percentage of missing data in 2016 to 2 decimal places is"
   ]
  },
  {
   "cell_type": "code",
   "execution_count": 21,
   "id": "6da4601f",
   "metadata": {},
   "outputs": [
    {
     "name": "stdout",
     "output_type": "stream",
     "text": [
      "1535 and 2.52 %\n"
     ]
    }
   ],
   "source": [
    "f_a.isnull().sum()\n",
    "C=pd.DataFrame(f_a.isnull().sum())\n",
    "D=C.iat[9,0]\n",
    "E=len(f_a)\n",
    "Percentage=(D/E)*100\n",
    "Percentage_format = \"{:.2f}\".format(Percentage)\n",
    "print(D, 'and' , Percentage_format,'%')"
   ]
  },
  {
   "cell_type": "markdown",
   "id": "e3526498",
   "metadata": {},
   "source": [
    "14. The year that had the highest correlation with ‘Element Code’"
   ]
  },
  {
   "cell_type": "code",
   "execution_count": 111,
   "id": "305c88dc",
   "metadata": {},
   "outputs": [
    {
     "name": "stdout",
     "output_type": "stream",
     "text": [
      "0.1282844672996681\n",
      "0.1254596929964542\n",
      "0.12381721378789941\n",
      "0.12920400412461072\n",
      "0.12888513118822403\n",
      "Y2017 had the highest correlation with Element Code\n"
     ]
    }
   ],
   "source": [
    "f_a.groupby('Element Code').sum()\n",
    "F=pd.DataFrame(f_a.groupby('Element Code').sum())\n",
    "P=F.reset_index()\n",
    "print(P['Element Code'].corr(P['Y2014']))\n",
    "print(P['Element Code'].corr(P['Y2015']))\n",
    "print(P['Element Code'].corr(P['Y2016']))\n",
    "print(P['Element Code'].corr(P['Y2017']))\n",
    "print(P['Element Code'].corr(P['Y2018']))\n",
    "\n",
    "print('Y2017 had the highest correlation with Element Code')"
   ]
  },
  {
   "cell_type": "markdown",
   "id": "00d1c6a7",
   "metadata": {},
   "source": [
    "15. The year with the highest sum of Import Quantity is"
   ]
  },
  {
   "cell_type": "code",
   "execution_count": 142,
   "id": "76f1686f",
   "metadata": {},
   "outputs": [
    {
     "name": "stdout",
     "output_type": "stream",
     "text": [
      "Area Code                                                  688174\n",
      "Area            AlgeriaAlgeriaAlgeriaAlgeriaAlgeriaAlgeriaAlge...\n",
      "Item Code                                                13795966\n",
      "Item            Cereals - Excluding BeerWheat and productsRice...\n",
      "Element Code                                             28834929\n",
      "Element         Import QuantityImport QuantityImport QuantityI...\n",
      "Unit            1000 tonnes1000 tonnes1000 tonnes1000 tonnes10...\n",
      "Y2014                                                   274144.48\n",
      "Y2015                                                   267018.46\n",
      "Y2016                                                   286582.78\n",
      "Y2017                                                   294559.09\n",
      "Y2018                                                   287997.09\n",
      "dtype: object\n",
      "The year with the highest sum of Import Quantity is 2017\n"
     ]
    }
   ],
   "source": [
    "G=pd.DataFrame(f_a)\n",
    "G1=pd.DataFrame(G[G['Element'].eq('Import Quantity')]).sum()\n",
    "print(G1)\n",
    "print('The year with the highest sum of Import Quantity is 2017')"
   ]
  },
  {
   "cell_type": "markdown",
   "id": "f5e42744",
   "metadata": {},
   "source": [
    "16. The total number of the sum of Production in 2014 is"
   ]
  },
  {
   "cell_type": "code",
   "execution_count": 143,
   "id": "4edacb49",
   "metadata": {},
   "outputs": [
    {
     "name": "stdout",
     "output_type": "stream",
     "text": [
      "                                             Y2014\n",
      "Element                                           \n",
      "Domestic supply quantity                1996716.35\n",
      "Export Quantity                          150020.64\n",
      "Fat supply quantity (g/capita/day)        10225.56\n",
      "Feed                                     216927.89\n",
      "Food                                    1212332.49\n",
      "Food supply (kcal/capita/day)            454257.00\n",
      "Food supply quantity (kg/capita/yr)       49650.63\n",
      "Import Quantity                          274144.48\n",
      "Losses                                   153223.00\n",
      "Other uses (non-food)                     78718.13\n",
      "Processing                               282923.00\n",
      "Production                              1931287.75\n",
      "Protein supply quantity (g/capita/day)    11836.46\n",
      "Residuals                                 30149.00\n",
      "Seed                                      21922.92\n",
      "Stock Variation                           58749.83\n",
      "Total Population - Both sexes           1031585.00\n",
      "Tourist consumption                         416.00\n",
      "The total number of the sum of Production in 2014 is 1931287.75\n"
     ]
    }
   ],
   "source": [
    "f_a.groupby('Element')['Y2014'].sum()\n",
    "H=pd.DataFrame(f_a.groupby('Element')['Y2014'].sum())\n",
    "print(H)\n",
    "H.at['Production','Y2014']\n",
    "print('The total number of the sum of Production in 2014 is 1931287.75')"
   ]
  },
  {
   "cell_type": "markdown",
   "id": "b524e80c",
   "metadata": {},
   "source": [
    "17. The elements with the highest sum in 2018?"
   ]
  },
  {
   "cell_type": "code",
   "execution_count": 47,
   "id": "2a9fe3a2",
   "metadata": {},
   "outputs": [
    {
     "name": "stdout",
     "output_type": "stream",
     "text": [
      "                                             Y2018\n",
      "Element                                           \n",
      "Domestic supply quantity                2161192.10\n",
      "Export Quantity                          181594.80\n",
      "Fat supply quantity (g/capita/day)        10258.69\n",
      "Feed                                     233489.68\n",
      "Food                                    1303841.28\n",
      "Food supply (kcal/capita/day)            455261.00\n",
      "Food supply quantity (kg/capita/yr)       49056.85\n",
      "Import Quantity                          287997.09\n",
      "Losses                                   163902.00\n",
      "Other uses (non-food)                     91300.97\n",
      "Processing                               308429.00\n",
      "Production                              2075072.89\n",
      "Protein supply quantity (g/capita/day)    11833.56\n",
      "Residuals                                 34864.00\n",
      "Seed                                      25263.14\n",
      "Stock Variation                           20577.91\n",
      "Total Population - Both sexes           1140605.00\n",
      "Tourist consumption                          90.00\n",
      "49056.85\n",
      "2161192.1\n",
      "287997.09\n",
      "455261.0\n",
      "Domestic supply quantity is the highest\n"
     ]
    }
   ],
   "source": [
    "f_a.groupby('Element')['Y2018'].sum()\n",
    "I=pd.DataFrame(f_a.groupby('Element')['Y2018'].sum())\n",
    "print(I)\n",
    "\n",
    "print(I.at['Food supply quantity (kg/capita/yr)','Y2018'])\n",
    "print(I.at['Domestic supply quantity','Y2018'])\n",
    "print(I.at['Import Quantity','Y2018'])\n",
    "print(I.at['Food supply (kcal/capita/day)','Y2018'])\n",
    "\n",
    "print('Domestic supply quantity is the highest')"
   ]
  },
  {
   "cell_type": "markdown",
   "id": "431ee137",
   "metadata": {},
   "source": [
    "18. The element that had the 3rd lowest sum in 2018 is"
   ]
  },
  {
   "cell_type": "code",
   "execution_count": 60,
   "id": "a217808b",
   "metadata": {},
   "outputs": [
    {
     "name": "stdout",
     "output_type": "stream",
     "text": [
      "Food supply (kcal/capita/day) is 455261.0\n",
      "Fat supply quantity (g/capita/day) is 10258.69\n",
      "Seed is 25263.14\n",
      "Protein supply quantity (g/capita/day) is 11833.56\n",
      "Food supply quantity (kg/capita/yr) is 49056.85\n",
      "The element with the 3rd lowest sum in 2018 is Seed\n"
     ]
    }
   ],
   "source": [
    "f_a.groupby('Element')['Y2018'].sum()\n",
    "J=pd.DataFrame(f_a.groupby('Element')['Y2018'].sum())\n",
    "print('Food supply (kcal/capita/day) is' , J.at['Food supply (kcal/capita/day)','Y2018'])\n",
    "print('Fat supply quantity (g/capita/day) is', J.at['Fat supply quantity (g/capita/day)','Y2018'])\n",
    "print('Seed is',J.at['Seed','Y2018'])\n",
    "print('Protein supply quantity (g/capita/day) is',J.at['Protein supply quantity (g/capita/day)','Y2018'])\n",
    "print('Food supply quantity (kg/capita/yr) is',J.at['Food supply quantity (kg/capita/yr)','Y2018'])\n",
    "\n",
    "print('The element with the 3rd lowest sum in 2018 is Seed')"
   ]
  },
  {
   "cell_type": "markdown",
   "id": "dfe4ad40",
   "metadata": {},
   "source": [
    "19. The total Import Quantity in Algeria in 2018 is"
   ]
  },
  {
   "cell_type": "code",
   "execution_count": 217,
   "id": "6572465d",
   "metadata": {},
   "outputs": [
    {
     "name": "stdout",
     "output_type": "stream",
     "text": [
      "Area       AlgeriaAlgeriaAlgeriaAlgeriaAlgeriaAlgeriaAlge...\n",
      "Element    Import QuantityImport QuantityImport QuantityI...\n",
      "Y2018                                               36238.29\n",
      "dtype: object\n",
      "The total Import Quantity in Algeria in 2018 is 36238.29\n"
     ]
    }
   ],
   "source": [
    "k=pd.DataFrame(f_a)\n",
    "K3=pd.DataFrame(k[k['Area'].eq('Algeria')])\n",
    "K8=pd.DataFrame(K3)\n",
    "\n",
    "K5=K8[['Area','Element','Y2018']]\n",
    "K6=pd.DataFrame(K5)\n",
    "K7=(K6.loc[K6['Element']=='Import Quantity']).sum()\n",
    "print(K7)\n",
    "print('The total Import Quantity in Algeria in 2018 is 36238.29')"
   ]
  },
  {
   "cell_type": "markdown",
   "id": "33ac056e",
   "metadata": {},
   "source": [
    "20. The total number of unique countries in the dataset is"
   ]
  },
  {
   "cell_type": "code",
   "execution_count": 89,
   "id": "0c97b8d0",
   "metadata": {},
   "outputs": [
    {
     "name": "stdout",
     "output_type": "stream",
     "text": [
      "Area Code       49\n",
      "Item Code       49\n",
      "Element Code    49\n",
      "Y2014           48\n",
      "Y2015           48\n",
      "Y2016           48\n",
      "Y2017           48\n",
      "Y2018           48\n",
      "dtype: int64\n",
      "The total number of unique countries in the dataset is 49\n"
     ]
    }
   ],
   "source": [
    "f_a.groupby(['Area']).sum()\n",
    "L=pd.DataFrame(f_a.groupby(['Area']).sum())\n",
    "print(L)\n",
    "print(L.nunique())\n",
    "print('The total number of unique countries in the dataset is 49')"
   ]
  },
  {
   "cell_type": "code",
   "execution_count": null,
   "id": "0174aa91",
   "metadata": {},
   "outputs": [],
   "source": []
  }
 ],
 "metadata": {
  "kernelspec": {
   "display_name": "Python 3 (ipykernel)",
   "language": "python",
   "name": "python3"
  },
  "language_info": {
   "codemirror_mode": {
    "name": "ipython",
    "version": 3
   },
   "file_extension": ".py",
   "mimetype": "text/x-python",
   "name": "python",
   "nbconvert_exporter": "python",
   "pygments_lexer": "ipython3",
   "version": "3.9.7"
  }
 },
 "nbformat": 4,
 "nbformat_minor": 5
}
